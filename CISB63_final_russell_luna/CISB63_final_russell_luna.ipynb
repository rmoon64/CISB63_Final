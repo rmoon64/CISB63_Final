{
 "cells": [
  {
   "cell_type": "markdown",
   "id": "7a42f0cb",
   "metadata": {},
   "source": [
    "# PDF Text Converter and Generation Example\n",
    "### Mt. SAC CISB 63 Final Project - Fall 2023\n",
    "### Russell Luna\n",
    "\n",
    "https://github.com/rmoon64/CISB63_Final/"
   ]
  },
  {
   "cell_type": "markdown",
   "id": "3b6ea602",
   "metadata": {},
   "source": [
    "Summary/Explanation of Project\n",
    "\n",
    "The goal of this project was to convert a PDF file into a TXT file and generate text using the extracted content. It utilized various natural language processing techniques, such as part-of-speech tagging (POS), named entity recognition (NER), translation, frequency distributions, word clouds, and tokenization. First, I utilized PyPDF2 to extract the text from the PDF. Then, tokenize the extracted sentences into individual words to identify the most frequently used words and determine the significance of sentences for generating word clouds. To enhance entity visualization, I used displacy, which helped visualize entities such as organizations. Finally, we used Matplotlib to plot the graph for our frequency distribution (fdist)."
   ]
  },
  {
   "cell_type": "markdown",
   "id": "e2b9422b",
   "metadata": {},
   "source": [
    "### Import libraries"
   ]
  },
  {
   "cell_type": "code",
   "execution_count": 1,
   "id": "b5dbc72d",
   "metadata": {},
   "outputs": [
    {
     "name": "stdout",
     "output_type": "stream",
     "text": [
      "WARNING:tensorflow:From C:\\Anaconda\\Lib\\site-packages\\keras\\src\\losses.py:2976: The name tf.losses.sparse_softmax_cross_entropy is deprecated. Please use tf.compat.v1.losses.sparse_softmax_cross_entropy instead.\n",
      "\n"
     ]
    }
   ],
   "source": [
    "import tensorflow as tf\n",
    "import re\n",
    "import pandas as pd\n",
    "import PyPDF2\n",
    "import numpy as np\n",
    "import nltk\n",
    "from tensorflow.keras.preprocessing.text import Tokenizer\n",
    "from tensorflow.keras.preprocessing.sequence import pad_sequences\n",
    "from tensorflow.keras.models import Sequential\n",
    "from tensorflow.keras.layers import Embedding, LSTM, Dense\n",
    "from sklearn.feature_extraction.text import TfidfVectorizer\n",
    "from sklearn.feature_extraction.text import TfidfVectorizer\n",
    "from nltk.tokenize import word_tokenize\n",
    "from nltk.tokenize import sent_tokenize, word_tokenize\n",
    "from nltk.corpus import stopwords\n",
    "\n",
    "# Extract text\n",
    "def convert_pdf_to_txt(pdf_path, txt_path):\n",
    "    start_page = 17\n",
    "    end_page = 35\n",
    "\n",
    "    with open(pdf_path, 'rb') as pdf_file:\n",
    "        pdf_reader = PyPDF2.PdfFileReader(pdf_file)\n",
    "        text = ''\n",
    "        for page_num in range(start_page - 1, min(end_page, pdf_reader.numPages)):\n",
    "            page = pdf_reader.getPage(page_num)\n",
    "            text += page.extractText()\n",
    "\n",
    "    with open(txt_path, 'w', encoding='utf-8') as txt_file:\n",
    "        txt_file.write(text)\n",
    "    \n",
    "# Add paths for PDF and text files\n",
    "pdf_path = 'Maxwell Maltz - Psycho-Cybernetics_ Updated and Expanded Paperback – November 3, 2015.pdf'\n",
    "txt_path = 'Output.txt'\n",
    "    \n",
    "# Call the function to convert the PDF to text\n",
    "convert_pdf_to_txt(pdf_path, txt_path)"
   ]
  },
  {
   "cell_type": "code",
   "execution_count": 2,
   "id": "1dd3d2c5",
   "metadata": {},
   "outputs": [],
   "source": [
    "# Load the text\n",
    "file_path = 'Output.txt'\n",
    "with open(file_path, 'r', encoding='utf-8') as file:\n",
    "    text = file.read()"
   ]
  },
  {
   "cell_type": "code",
   "execution_count": 3,
   "id": "fa4bcfbf",
   "metadata": {},
   "outputs": [],
   "source": [
    "# Tokenize the text\n",
    "tokenizer = Tokenizer()\n",
    "tokenizer.fit_on_texts([text])\n",
    "total_words = len(tokenizer.word_index) + 1"
   ]
  },
  {
   "cell_type": "code",
   "execution_count": 4,
   "id": "d127ae98",
   "metadata": {},
   "outputs": [
    {
     "name": "stdout",
     "output_type": "stream",
     "text": [
      "                                       General Principles\n",
      "count                                                 595\n",
      "unique                                                595\n",
      "top     The self-image is the key to human personality...\n",
      "freq                                                    1\n",
      "                                  General Principles\n",
      "0  The self-image is the key to human personality...\n",
      "1  Change the self-image and you change the perso...\n",
      "2  But more than this: The self-image sets the bo...\n",
      "3  accomplishment. It defines what you can and ca...\n",
      "4  self-image and you expand the “area of the pos...\n",
      "<class 'pandas.core.frame.DataFrame'>\n",
      "RangeIndex: 595 entries, 0 to 594\n",
      "Data columns (total 1 columns):\n",
      " #   Column              Non-Null Count  Dtype \n",
      "---  ------              --------------  ----- \n",
      " 0   General Principles  595 non-null    object\n",
      "dtypes: object(1)\n",
      "memory usage: 4.8+ KB\n",
      "None\n"
     ]
    }
   ],
   "source": [
    "# Data Transformation\n",
    "txt_path = 'Output.txt'\n",
    "\n",
    "# Read the text file into a DataFrame\n",
    "df = pd.read_csv(txt_path, sep='\\t')\n",
    "\n",
    "# Use describe() to get statistical information about the DataFrame\n",
    "print(df.describe())\n",
    "\n",
    "# Use head() to preview the first five rows of the DataFrame\n",
    "print(df.head())\n",
    "\n",
    "# Use info() to get information about the DataFrame's structure and data types\n",
    "print(df.info())"
   ]
  },
  {
   "cell_type": "markdown",
   "id": "55ee4f96",
   "metadata": {},
   "source": [
    "### Create input sequences and corresponding labels\n",
    "steps:\n",
    "1. Initialize an Empty List\n",
    "2. Tokenize the Text\n",
    "3. Create N-gram Sequences"
   ]
  },
  {
   "cell_type": "code",
   "execution_count": 5,
   "id": "fd64dee5",
   "metadata": {},
   "outputs": [],
   "source": [
    "# Create input sequences and corresponding labels\n",
    "input_sequences = []\n",
    "for line in text.split('\\n'):\n",
    "    token_list = tokenizer.texts_to_sequences([line])[0]\n",
    "    for i in range(1, len(token_list)):\n",
    "        n_gram_sequence = token_list[:i+1]\n",
    "        input_sequences.append(n_gram_sequence)"
   ]
  },
  {
   "cell_type": "markdown",
   "id": "5b2adc33",
   "metadata": {},
   "source": [
    "### Data preparation\n",
    "Let's prepare the input data by ensuring that all sequences have the same length, separating input sequences (X) from output labels (y), and one-hot encoding the output labels for training a language model.\n",
    "\n",
    "steps:\n",
    "1. Calculate Maximum Sequence Length\n",
    "2. Pad Sequences\n",
    "3. Create Input (X) and Output (y) Sequences\n",
    "4. One-Hot Encode the Output (y)\n",
    "\n",
    "X, y = input_sequences[:,:-1],input_sequences[:,-1]\n",
    "- The X variable represents the input sequences, which include all elements of each sequence except the last one. \n",
    "- The y variable represents the labels, which are the last elements of each sequence.\n",
    "- X represents the input sequences for training the language model.\n",
    "- input_sequences[:, :-1] selects all elements in each row of input_sequences except for the last one.\n",
    "- X consists of the first to second-to-last elements of each sequence in input_sequences.\n",
    "- Each row of X corresponds to an input sequence that the model will use to predict the next word."
   ]
  },
  {
   "cell_type": "code",
   "execution_count": 6,
   "id": "0e9687c8",
   "metadata": {},
   "outputs": [],
   "source": [
    "max_sequence_length = max([len(x) for x in input_sequences])\n",
    "input_sequences = pad_sequences(input_sequences, maxlen=max_sequence_length, padding='pre')\n",
    "X, y = input_sequences[:,:-1],input_sequences[:,-1]\n",
    "y = tf.keras.utils.to_categorical(y, num_classes=total_words)"
   ]
  },
  {
   "cell_type": "code",
   "execution_count": 7,
   "id": "4abc4376",
   "metadata": {
    "scrolled": true
   },
   "outputs": [
    {
     "name": "stdout",
     "output_type": "stream",
     "text": [
      "WARNING:tensorflow:From C:\\Anaconda\\Lib\\site-packages\\keras\\src\\backend.py:873: The name tf.get_default_graph is deprecated. Please use tf.compat.v1.get_default_graph instead.\n",
      "\n",
      "WARNING:tensorflow:From C:\\Anaconda\\Lib\\site-packages\\keras\\src\\optimizers\\__init__.py:309: The name tf.train.Optimizer is deprecated. Please use tf.compat.v1.train.Optimizer instead.\n",
      "\n",
      "Model: \"sequential\"\n",
      "_________________________________________________________________\n",
      " Layer (type)                Output Shape              Param #   \n",
      "=================================================================\n",
      " embedding (Embedding)       (None, 53, 50)            81500     \n",
      "                                                                 \n",
      " lstm (LSTM)                 (None, 100)               60400     \n",
      "                                                                 \n",
      " dense (Dense)               (None, 1630)              164630    \n",
      "                                                                 \n",
      "=================================================================\n",
      "Total params: 306530 (1.17 MB)\n",
      "Trainable params: 306530 (1.17 MB)\n",
      "Non-trainable params: 0 (0.00 Byte)\n",
      "_________________________________________________________________\n"
     ]
    }
   ],
   "source": [
    "# Build the LSTM model\n",
    "model = Sequential()\n",
    "model.add(Embedding(total_words, 50, input_length=max_sequence_length-1))\n",
    "# model.add(LSTM(150, return_sequences = True))\n",
    "model.add(LSTM(100))\n",
    "# model.add(Dense(150, activation = 'relu'))\n",
    "model.add(Dense(total_words, activation='softmax'))\n",
    "\n",
    "model.compile(loss='categorical_crossentropy', optimizer='adam', metrics=['accuracy'])\n",
    "\n",
    "model.summary()"
   ]
  },
  {
   "cell_type": "code",
   "execution_count": 8,
   "id": "761da480",
   "metadata": {
    "scrolled": false
   },
   "outputs": [
    {
     "name": "stdout",
     "output_type": "stream",
     "text": [
      "Epoch 1/100\n",
      "WARNING:tensorflow:From C:\\Anaconda\\Lib\\site-packages\\keras\\src\\utils\\tf_utils.py:492: The name tf.ragged.RaggedTensorValue is deprecated. Please use tf.compat.v1.ragged.RaggedTensorValue instead.\n",
      "\n",
      "WARNING:tensorflow:From C:\\Anaconda\\Lib\\site-packages\\keras\\src\\engine\\base_layer_utils.py:384: The name tf.executing_eagerly_outside_functions is deprecated. Please use tf.compat.v1.executing_eagerly_outside_functions instead.\n",
      "\n",
      "251/251 [==============================] - 7s 19ms/step - loss: 6.0528 - accuracy: 0.0362\n",
      "Epoch 2/100\n",
      "251/251 [==============================] - 5s 19ms/step - loss: 5.3567 - accuracy: 0.0655\n",
      "Epoch 3/100\n",
      "251/251 [==============================] - 5s 19ms/step - loss: 5.1777 - accuracy: 0.0736\n",
      "Epoch 4/100\n",
      "251/251 [==============================] - 5s 19ms/step - loss: 5.0743 - accuracy: 0.0884\n",
      "Epoch 5/100\n",
      "251/251 [==============================] - 5s 19ms/step - loss: 4.9795 - accuracy: 0.0896\n",
      "Epoch 6/100\n",
      "251/251 [==============================] - 5s 19ms/step - loss: 4.9084 - accuracy: 0.0970\n",
      "Epoch 7/100\n",
      "251/251 [==============================] - 5s 18ms/step - loss: 4.8402 - accuracy: 0.1018\n",
      "Epoch 8/100\n",
      "251/251 [==============================] - 5s 18ms/step - loss: 4.7625 - accuracy: 0.1074\n",
      "Epoch 9/100\n",
      "251/251 [==============================] - 5s 18ms/step - loss: 4.6828 - accuracy: 0.1092\n",
      "Epoch 10/100\n",
      "251/251 [==============================] - 5s 18ms/step - loss: 4.5966 - accuracy: 0.1156\n",
      "Epoch 11/100\n",
      "251/251 [==============================] - 5s 18ms/step - loss: 4.5070 - accuracy: 0.1234\n",
      "Epoch 12/100\n",
      "251/251 [==============================] - 5s 18ms/step - loss: 4.4096 - accuracy: 0.1338\n",
      "Epoch 13/100\n",
      "251/251 [==============================] - 5s 18ms/step - loss: 4.3117 - accuracy: 0.1413\n",
      "Epoch 14/100\n",
      "251/251 [==============================] - 5s 18ms/step - loss: 4.2095 - accuracy: 0.1503\n",
      "Epoch 15/100\n",
      "251/251 [==============================] - 5s 18ms/step - loss: 4.1050 - accuracy: 0.1674\n",
      "Epoch 16/100\n",
      "251/251 [==============================] - 5s 18ms/step - loss: 4.0052 - accuracy: 0.1709\n",
      "Epoch 17/100\n",
      "251/251 [==============================] - 5s 18ms/step - loss: 3.9055 - accuracy: 0.1834\n",
      "Epoch 18/100\n",
      "251/251 [==============================] - 5s 19ms/step - loss: 3.8082 - accuracy: 0.1926\n",
      "Epoch 19/100\n",
      "251/251 [==============================] - 5s 19ms/step - loss: 3.7105 - accuracy: 0.2075\n",
      "Epoch 20/100\n",
      "251/251 [==============================] - 5s 19ms/step - loss: 3.6158 - accuracy: 0.2177\n",
      "Epoch 21/100\n",
      "251/251 [==============================] - 5s 19ms/step - loss: 3.5205 - accuracy: 0.2271\n",
      "Epoch 22/100\n",
      "251/251 [==============================] - 5s 19ms/step - loss: 3.4255 - accuracy: 0.2392\n",
      "Epoch 23/100\n",
      "251/251 [==============================] - 5s 19ms/step - loss: 3.3353 - accuracy: 0.2474\n",
      "Epoch 24/100\n",
      "251/251 [==============================] - 5s 21ms/step - loss: 3.2428 - accuracy: 0.2635\n",
      "Epoch 25/100\n",
      "251/251 [==============================] - 5s 21ms/step - loss: 3.1492 - accuracy: 0.2790\n",
      "Epoch 26/100\n",
      "251/251 [==============================] - 5s 21ms/step - loss: 3.0605 - accuracy: 0.2952\n",
      "Epoch 27/100\n",
      "251/251 [==============================] - 5s 21ms/step - loss: 2.9671 - accuracy: 0.3155\n",
      "Epoch 28/100\n",
      "251/251 [==============================] - 5s 21ms/step - loss: 2.8806 - accuracy: 0.3335\n",
      "Epoch 29/100\n",
      "251/251 [==============================] - 5s 21ms/step - loss: 2.7943 - accuracy: 0.3459\n",
      "Epoch 30/100\n",
      "251/251 [==============================] - 5s 21ms/step - loss: 2.7075 - accuracy: 0.3695\n",
      "Epoch 31/100\n",
      "251/251 [==============================] - 5s 21ms/step - loss: 2.6226 - accuracy: 0.3913\n",
      "Epoch 32/100\n",
      "251/251 [==============================] - 5s 22ms/step - loss: 2.5431 - accuracy: 0.4065\n",
      "Epoch 33/100\n",
      "251/251 [==============================] - 5s 22ms/step - loss: 2.4640 - accuracy: 0.4246\n",
      "Epoch 34/100\n",
      "251/251 [==============================] - 6s 22ms/step - loss: 2.3915 - accuracy: 0.4518\n",
      "Epoch 35/100\n",
      "251/251 [==============================] - 6s 22ms/step - loss: 2.3156 - accuracy: 0.4615\n",
      "Epoch 36/100\n",
      "251/251 [==============================] - 6s 22ms/step - loss: 2.2439 - accuracy: 0.4733\n",
      "Epoch 37/100\n",
      "251/251 [==============================] - 6s 23ms/step - loss: 2.1775 - accuracy: 0.4920\n",
      "Epoch 38/100\n",
      "251/251 [==============================] - 6s 23ms/step - loss: 2.1103 - accuracy: 0.5026\n",
      "Epoch 39/100\n",
      "251/251 [==============================] - 6s 23ms/step - loss: 2.0448 - accuracy: 0.5149\n",
      "Epoch 40/100\n",
      "251/251 [==============================] - 6s 23ms/step - loss: 1.9867 - accuracy: 0.5300\n",
      "Epoch 41/100\n",
      "251/251 [==============================] - 6s 23ms/step - loss: 1.9273 - accuracy: 0.5441\n",
      "Epoch 42/100\n",
      "251/251 [==============================] - 6s 23ms/step - loss: 1.8724 - accuracy: 0.5564\n",
      "Epoch 43/100\n",
      "251/251 [==============================] - 6s 23ms/step - loss: 1.8196 - accuracy: 0.5673\n",
      "Epoch 44/100\n",
      "251/251 [==============================] - 6s 24ms/step - loss: 1.7687 - accuracy: 0.5828\n",
      "Epoch 45/100\n",
      "251/251 [==============================] - 6s 24ms/step - loss: 1.7207 - accuracy: 0.5917\n",
      "Epoch 46/100\n",
      "251/251 [==============================] - 6s 24ms/step - loss: 1.6703 - accuracy: 0.6059\n",
      "Epoch 47/100\n",
      "251/251 [==============================] - 6s 24ms/step - loss: 1.6234 - accuracy: 0.6136\n",
      "Epoch 48/100\n",
      "251/251 [==============================] - 6s 25ms/step - loss: 1.5813 - accuracy: 0.6213\n",
      "Epoch 49/100\n",
      "251/251 [==============================] - 6s 25ms/step - loss: 1.5376 - accuracy: 0.6319\n",
      "Epoch 50/100\n",
      "251/251 [==============================] - 6s 25ms/step - loss: 1.4980 - accuracy: 0.6399\n",
      "Epoch 51/100\n",
      "251/251 [==============================] - 6s 25ms/step - loss: 1.4588 - accuracy: 0.6467\n",
      "Epoch 52/100\n",
      "251/251 [==============================] - 7s 26ms/step - loss: 1.4191 - accuracy: 0.6566\n",
      "Epoch 53/100\n",
      "251/251 [==============================] - 7s 26ms/step - loss: 1.3836 - accuracy: 0.6648\n",
      "Epoch 54/100\n",
      "251/251 [==============================] - 7s 27ms/step - loss: 1.3490 - accuracy: 0.6763\n",
      "Epoch 55/100\n",
      "251/251 [==============================] - 7s 29ms/step - loss: 1.3136 - accuracy: 0.6837\n",
      "Epoch 56/100\n",
      "251/251 [==============================] - 7s 27ms/step - loss: 1.2812 - accuracy: 0.6901\n",
      "Epoch 57/100\n",
      "251/251 [==============================] - 7s 28ms/step - loss: 1.2484 - accuracy: 0.6988\n",
      "Epoch 58/100\n",
      "251/251 [==============================] - 7s 26ms/step - loss: 1.2189 - accuracy: 0.7015\n",
      "Epoch 59/100\n",
      "251/251 [==============================] - 7s 27ms/step - loss: 1.1881 - accuracy: 0.7083\n",
      "Epoch 60/100\n",
      "251/251 [==============================] - 7s 26ms/step - loss: 1.1610 - accuracy: 0.7181\n",
      "Epoch 61/100\n",
      "251/251 [==============================] - 7s 27ms/step - loss: 1.1346 - accuracy: 0.7201\n",
      "Epoch 62/100\n",
      "251/251 [==============================] - 7s 27ms/step - loss: 1.1042 - accuracy: 0.7286\n",
      "Epoch 63/100\n",
      "251/251 [==============================] - 7s 28ms/step - loss: 1.0793 - accuracy: 0.7352\n",
      "Epoch 64/100\n",
      "251/251 [==============================] - 7s 28ms/step - loss: 1.0561 - accuracy: 0.7392\n",
      "Epoch 65/100\n",
      "251/251 [==============================] - 7s 28ms/step - loss: 1.0299 - accuracy: 0.7434\n",
      "Epoch 66/100\n",
      "251/251 [==============================] - 7s 28ms/step - loss: 1.0087 - accuracy: 0.7514\n",
      "Epoch 67/100\n",
      "251/251 [==============================] - 7s 29ms/step - loss: 0.9863 - accuracy: 0.7549\n",
      "Epoch 68/100\n",
      "251/251 [==============================] - 7s 29ms/step - loss: 0.9642 - accuracy: 0.7612\n",
      "Epoch 69/100\n",
      "251/251 [==============================] - 7s 28ms/step - loss: 0.9454 - accuracy: 0.7677\n",
      "Epoch 70/100\n",
      "251/251 [==============================] - 7s 29ms/step - loss: 0.9246 - accuracy: 0.7709\n",
      "Epoch 71/100\n",
      "251/251 [==============================] - 7s 29ms/step - loss: 0.9038 - accuracy: 0.7758\n",
      "Epoch 72/100\n",
      "251/251 [==============================] - 7s 29ms/step - loss: 0.8864 - accuracy: 0.7774\n",
      "Epoch 73/100\n",
      "251/251 [==============================] - 7s 29ms/step - loss: 0.8675 - accuracy: 0.7793\n",
      "Epoch 74/100\n",
      "251/251 [==============================] - 7s 29ms/step - loss: 0.8506 - accuracy: 0.7849\n",
      "Epoch 75/100\n",
      "251/251 [==============================] - 7s 29ms/step - loss: 0.8346 - accuracy: 0.7906\n",
      "Epoch 76/100\n",
      "251/251 [==============================] - 7s 28ms/step - loss: 0.8190 - accuracy: 0.7906\n",
      "Epoch 77/100\n",
      "251/251 [==============================] - 7s 28ms/step - loss: 0.8026 - accuracy: 0.7937\n",
      "Epoch 78/100\n",
      "251/251 [==============================] - 7s 28ms/step - loss: 0.7881 - accuracy: 0.7956\n",
      "Epoch 79/100\n",
      "251/251 [==============================] - 7s 28ms/step - loss: 0.7739 - accuracy: 0.7976\n",
      "Epoch 80/100\n",
      "251/251 [==============================] - 7s 28ms/step - loss: 0.7590 - accuracy: 0.8048\n",
      "Epoch 81/100\n",
      "251/251 [==============================] - 7s 28ms/step - loss: 0.7479 - accuracy: 0.8016\n",
      "Epoch 82/100\n",
      "251/251 [==============================] - 7s 28ms/step - loss: 0.7343 - accuracy: 0.8082\n",
      "Epoch 83/100\n",
      "251/251 [==============================] - 7s 28ms/step - loss: 0.7213 - accuracy: 0.8119\n",
      "Epoch 84/100\n",
      "251/251 [==============================] - 7s 28ms/step - loss: 0.7100 - accuracy: 0.8130\n",
      "Epoch 85/100\n",
      "251/251 [==============================] - 7s 28ms/step - loss: 0.6998 - accuracy: 0.8128\n",
      "Epoch 86/100\n",
      "251/251 [==============================] - 7s 28ms/step - loss: 0.6895 - accuracy: 0.8154\n",
      "Epoch 87/100\n",
      "251/251 [==============================] - 7s 28ms/step - loss: 0.6768 - accuracy: 0.8178\n",
      "Epoch 88/100\n",
      "251/251 [==============================] - 7s 28ms/step - loss: 0.6673 - accuracy: 0.8161\n",
      "Epoch 89/100\n",
      "251/251 [==============================] - 7s 28ms/step - loss: 0.6577 - accuracy: 0.8239\n",
      "Epoch 90/100\n",
      "251/251 [==============================] - 7s 28ms/step - loss: 0.6484 - accuracy: 0.8232\n",
      "Epoch 91/100\n",
      "251/251 [==============================] - 7s 28ms/step - loss: 0.6393 - accuracy: 0.8244\n",
      "Epoch 92/100\n",
      "251/251 [==============================] - 7s 29ms/step - loss: 0.6300 - accuracy: 0.8277\n",
      "Epoch 93/100\n",
      "251/251 [==============================] - 7s 28ms/step - loss: 0.6215 - accuracy: 0.8265\n",
      "Epoch 94/100\n",
      "251/251 [==============================] - 8s 32ms/step - loss: 0.6124 - accuracy: 0.8311\n",
      "Epoch 95/100\n",
      "251/251 [==============================] - 7s 30ms/step - loss: 0.6042 - accuracy: 0.8322\n",
      "Epoch 96/100\n",
      "251/251 [==============================] - 7s 29ms/step - loss: 0.5945 - accuracy: 0.8311\n",
      "Epoch 97/100\n",
      "251/251 [==============================] - 7s 29ms/step - loss: 0.5902 - accuracy: 0.8310\n",
      "Epoch 98/100\n",
      "251/251 [==============================] - 7s 29ms/step - loss: 0.5822 - accuracy: 0.8346\n",
      "Epoch 99/100\n",
      "251/251 [==============================] - 7s 29ms/step - loss: 0.5756 - accuracy: 0.8351\n",
      "Epoch 100/100\n",
      "251/251 [==============================] - 7s 29ms/step - loss: 0.5677 - accuracy: 0.8382\n"
     ]
    },
    {
     "data": {
      "text/plain": [
       "<keras.src.callbacks.History at 0x19e8eddde50>"
      ]
     },
     "execution_count": 8,
     "metadata": {},
     "output_type": "execute_result"
    }
   ],
   "source": [
    "# Train the model\n",
    "model.fit(X, y, epochs=100, verbose=1)"
   ]
  },
  {
   "cell_type": "markdown",
   "id": "951aa1d4",
   "metadata": {},
   "source": [
    "### Function to generate text\n",
    "Let's create a function generate_text that uses a trained language model to generate a sequence of words based on a given seed text.\n",
    "\n",
    "Steps:\n",
    "1. Function Definition\n",
    "2. Tokenize the Seed Text\n",
    "3. Pad Tokenized Sequence\n",
    "4. Predict the Next Word\n",
    "5. Map Index to Word\n",
    "6. Update Seed Text\n",
    "7. Return Generated Text\n",
    "\n",
    "Note: generate_text is a function that takes four parameters:\n",
    "- seed_text: The initial text or seed for generating the sequence.\n",
    "- next_words: The number of words to generate.\n",
    "- model: The trained language model.\n",
    "- max_sequence_length: The maximum length of the input sequence."
   ]
  },
  {
   "cell_type": "code",
   "execution_count": 9,
   "id": "849c462a",
   "metadata": {},
   "outputs": [],
   "source": [
    "# Function to generate text\n",
    "def generate_text(seed_text, next_words, model, max_sequence_length):\n",
    "    for _ in range(next_words):\n",
    "        token_list = tokenizer.texts_to_sequences([seed_text])[0] # tokenizing the seed text\n",
    "        token_list = pad_sequences([token_list], maxlen=max_sequence_length-1, padding='pre') # padding\n",
    "        \n",
    "        #The model is used to predict the index of the next word in the sequence using the predict method. \n",
    "        predicted = np.argmax(model.predict(token_list, verbose=0)) \n",
    "        \n",
    "        # The predicted index is then mapped back to the corresponding word using the word_index attribute of the tokenizer\n",
    "        output_word = \"\"\n",
    "        for word, index in tokenizer.word_index.items():\n",
    "            if index == predicted:\n",
    "                output_word = word\n",
    "                break\n",
    "        \n",
    "        # The predicted word is appended to the seed text, creating an updated seed for the next iteration.\n",
    "        seed_text += \" \" + output_word\n",
    "    return seed_text"
   ]
  },
  {
   "cell_type": "markdown",
   "id": "86f0e374",
   "metadata": {},
   "source": [
    "### Generate text\n",
    "- generate_text is a function that takes four parameters: a seed text (\"Call me Ishmael\"), the number of words to generate (20), the trained model (model), and the maximum sequence length (max_sequence_length).\n",
    "The function generates text by iteratively predicting the next word and appending it to the seed text."
   ]
  },
  {
   "cell_type": "code",
   "execution_count": 44,
   "id": "e7e6079d",
   "metadata": {},
   "outputs": [
    {
     "name": "stdout",
     "output_type": "stream",
     "text": [
      "Our self-image prescribes the limits for the accomplishment of any experience and a vicious or a beneficent\n"
     ]
    }
   ],
   "source": [
    "# Generate text\n",
    "generated_text = generate_text(\"Our self-image\", 15, model, max_sequence_length)\n",
    "print(generated_text)"
   ]
  },
  {
   "cell_type": "markdown",
   "id": "41b61f3a",
   "metadata": {},
   "source": [
    "### Adding WordCloud"
   ]
  },
  {
   "cell_type": "code",
   "execution_count": 46,
   "id": "84f6b685",
   "metadata": {
    "scrolled": true
   },
   "outputs": [
    {
     "data": {
      "image/png": "[encoded data removed]",
      "text/plain": [
       "<Figure size 1000x500 with 1 Axes>"
      ]
     },
     "metadata": {},
     "output_type": "display_data"
    }
   ],
   "source": [
    "import matplotlib.pyplot as plt\n",
    "from wordcloud import WordCloud\n",
    "\n",
    "# Generate a word cloud\n",
    "wordcloud = WordCloud(width=800, height=400, background_color=\"white\").generate(generated_text)\n",
    "\n",
    "# Display the word cloud using matplotlib\n",
    "plt.figure(figsize=(10, 5))\n",
    "plt.imshow(wordcloud, interpolation=\"bilinear\")\n",
    "plt.axis(\"off\")\n",
    "plt.show()"
   ]
  },
  {
   "cell_type": "markdown",
   "id": "bd6da907",
   "metadata": {},
   "source": [
    "### Adding Textblob"
   ]
  },
  {
   "cell_type": "code",
   "execution_count": 12,
   "id": "f9046e49",
   "metadata": {},
   "outputs": [
    {
     "name": "stdout",
     "output_type": "stream",
     "text": [
      "Requirement already satisfied: textblob in c:\\anaconda\\lib\\site-packages (0.17.1)\n",
      "Requirement already satisfied: nltk>=3.1 in c:\\anaconda\\lib\\site-packages (from textblob) (3.8.1)\n",
      "Requirement already satisfied: click in c:\\anaconda\\lib\\site-packages (from nltk>=3.1->textblob) (8.0.4)\n",
      "Requirement already satisfied: joblib in c:\\anaconda\\lib\\site-packages (from nltk>=3.1->textblob) (1.2.0)\n",
      "Requirement already satisfied: regex>=2021.8.3 in c:\\anaconda\\lib\\site-packages (from nltk>=3.1->textblob) (2022.7.9)\n",
      "Requirement already satisfied: tqdm in c:\\anaconda\\lib\\site-packages (from nltk>=3.1->textblob) (4.65.0)\n",
      "Requirement already satisfied: colorama in c:\\anaconda\\lib\\site-packages (from click->nltk>=3.1->textblob) (0.4.6)\n"
     ]
    }
   ],
   "source": [
    "!pip install textblob"
   ]
  },
  {
   "cell_type": "code",
   "execution_count": 13,
   "id": "292a473d",
   "metadata": {},
   "outputs": [],
   "source": [
    "from textblob import TextBlob"
   ]
  },
  {
   "cell_type": "code",
   "execution_count": 55,
   "id": "33e33bfe",
   "metadata": {},
   "outputs": [
    {
     "name": "stdout",
     "output_type": "stream",
     "text": [
      "Nuestra autoimagen prescribe los límites para el logro de cualquier experiencia y una viciosa o beneficiosa\n"
     ]
    }
   ],
   "source": [
    "# Create a TextBlob object with the text\n",
    "blob = TextBlob(generated_text)\n",
    "\n",
    "# Translate the text to Spanish\n",
    "translated_blob = blob.translate('en', 'es')\n",
    "\n",
    "# Print the translated text\n",
    "print(translated_blob)"
   ]
  },
  {
   "cell_type": "markdown",
   "id": "85cebd4f",
   "metadata": {},
   "source": [
    "### Adding SpaCy"
   ]
  },
  {
   "cell_type": "code",
   "execution_count": 15,
   "id": "6a47f253",
   "metadata": {},
   "outputs": [
    {
     "name": "stdout",
     "output_type": "stream",
     "text": [
      "Requirement already satisfied: spacy in c:\\anaconda\\lib\\site-packages (3.7.2)\n",
      "Requirement already satisfied: spacy-legacy<3.1.0,>=3.0.11 in c:\\anaconda\\lib\\site-packages (from spacy) (3.0.12)\n",
      "Requirement already satisfied: spacy-loggers<2.0.0,>=1.0.0 in c:\\anaconda\\lib\\site-packages (from spacy) (1.0.5)\n",
      "Requirement already satisfied: murmurhash<1.1.0,>=0.28.0 in c:\\anaconda\\lib\\site-packages (from spacy) (1.0.10)\n",
      "Requirement already satisfied: cymem<2.1.0,>=2.0.2 in c:\\anaconda\\lib\\site-packages (from spacy) (2.0.8)\n",
      "Requirement already satisfied: preshed<3.1.0,>=3.0.2 in c:\\anaconda\\lib\\site-packages (from spacy) (3.0.9)\n",
      "Requirement already satisfied: thinc<8.3.0,>=8.1.8 in c:\\anaconda\\lib\\site-packages (from spacy) (8.2.1)\n",
      "Requirement already satisfied: wasabi<1.2.0,>=0.9.1 in c:\\anaconda\\lib\\site-packages (from spacy) (1.1.2)\n",
      "Requirement already satisfied: srsly<3.0.0,>=2.4.3 in c:\\anaconda\\lib\\site-packages (from spacy) (2.4.8)\n",
      "Requirement already satisfied: catalogue<2.1.0,>=2.0.6 in c:\\anaconda\\lib\\site-packages (from spacy) (2.0.10)\n",
      "Requirement already satisfied: weasel<0.4.0,>=0.1.0 in c:\\anaconda\\lib\\site-packages (from spacy) (0.3.4)\n",
      "Requirement already satisfied: typer<0.10.0,>=0.3.0 in c:\\anaconda\\lib\\site-packages (from spacy) (0.9.0)\n",
      "Requirement already satisfied: smart-open<7.0.0,>=5.2.1 in c:\\anaconda\\lib\\site-packages (from spacy) (5.2.1)\n",
      "Requirement already satisfied: tqdm<5.0.0,>=4.38.0 in c:\\anaconda\\lib\\site-packages (from spacy) (4.65.0)\n",
      "Requirement already satisfied: requests<3.0.0,>=2.13.0 in c:\\anaconda\\lib\\site-packages (from spacy) (2.31.0)\n",
      "Requirement already satisfied: pydantic!=1.8,!=1.8.1,<3.0.0,>=1.7.4 in c:\\anaconda\\lib\\site-packages (from spacy) (1.10.8)\n",
      "Requirement already satisfied: jinja2 in c:\\anaconda\\lib\\site-packages (from spacy) (3.1.2)\n",
      "Requirement already satisfied: setuptools in c:\\anaconda\\lib\\site-packages (from spacy) (68.0.0)\n",
      "Requirement already satisfied: packaging>=20.0 in c:\\anaconda\\lib\\site-packages (from spacy) (23.1)\n",
      "Requirement already satisfied: langcodes<4.0.0,>=3.2.0 in c:\\anaconda\\lib\\site-packages (from spacy) (3.3.0)\n",
      "Requirement already satisfied: numpy>=1.19.0 in c:\\anaconda\\lib\\site-packages (from spacy) (1.24.3)\n",
      "Requirement already satisfied: typing-extensions>=4.2.0 in c:\\anaconda\\lib\\site-packages (from pydantic!=1.8,!=1.8.1,<3.0.0,>=1.7.4->spacy) (4.7.1)\n",
      "Requirement already satisfied: charset-normalizer<4,>=2 in c:\\anaconda\\lib\\site-packages (from requests<3.0.0,>=2.13.0->spacy) (2.0.4)\n",
      "Requirement already satisfied: idna<4,>=2.5 in c:\\anaconda\\lib\\site-packages (from requests<3.0.0,>=2.13.0->spacy) (3.4)\n",
      "Requirement already satisfied: urllib3<3,>=1.21.1 in c:\\anaconda\\lib\\site-packages (from requests<3.0.0,>=2.13.0->spacy) (1.26.16)\n",
      "Requirement already satisfied: certifi>=2017.4.17 in c:\\anaconda\\lib\\site-packages (from requests<3.0.0,>=2.13.0->spacy) (2023.11.17)\n",
      "Requirement already satisfied: blis<0.8.0,>=0.7.8 in c:\\anaconda\\lib\\site-packages (from thinc<8.3.0,>=8.1.8->spacy) (0.7.11)\n",
      "Requirement already satisfied: confection<1.0.0,>=0.0.1 in c:\\anaconda\\lib\\site-packages (from thinc<8.3.0,>=8.1.8->spacy) (0.1.4)\n",
      "Requirement already satisfied: colorama in c:\\anaconda\\lib\\site-packages (from tqdm<5.0.0,>=4.38.0->spacy) (0.4.6)\n",
      "Requirement already satisfied: click<9.0.0,>=7.1.1 in c:\\anaconda\\lib\\site-packages (from typer<0.10.0,>=0.3.0->spacy) (8.0.4)\n",
      "Requirement already satisfied: cloudpathlib<0.17.0,>=0.7.0 in c:\\anaconda\\lib\\site-packages (from weasel<0.4.0,>=0.1.0->spacy) (0.16.0)\n",
      "Requirement already satisfied: MarkupSafe>=2.0 in c:\\anaconda\\lib\\site-packages (from jinja2->spacy) (2.1.1)\n"
     ]
    }
   ],
   "source": [
    "!pip install -U spacy"
   ]
  },
  {
   "cell_type": "code",
   "execution_count": 16,
   "id": "1d2638a1",
   "metadata": {},
   "outputs": [
    {
     "name": "stdout",
     "output_type": "stream",
     "text": [
      "Collecting en-core-web-sm==3.7.1\n",
      "  Downloading https://github.com/explosion/spacy-models/releases/download/en_core_web_sm-3.7.1/en_core_web_sm-3.7.1-py3-none-any.whl (12.8 MB)\n",
      "     ---------------------------------------- 0.0/12.8 MB ? eta -:--:--\n",
      "     ---------------------------------------- 0.0/12.8 MB ? eta -:--:--\n",
      "     --------------------------------------- 0.1/12.8 MB 656.4 kB/s eta 0:00:20\n",
      "      --------------------------------------- 0.3/12.8 MB 2.0 MB/s eta 0:00:07\n",
      "     -- ------------------------------------- 0.7/12.8 MB 3.8 MB/s eta 0:00:04\n",
      "     ---- ----------------------------------- 1.5/12.8 MB 7.0 MB/s eta 0:00:02\n",
      "     ------- -------------------------------- 2.4/12.8 MB 8.8 MB/s eta 0:00:02\n",
      "     --------- ------------------------------ 3.1/12.8 MB 10.0 MB/s eta 0:00:01\n",
      "     ------------ --------------------------- 4.1/12.8 MB 10.8 MB/s eta 0:00:01\n",
      "     --------------- ------------------------ 4.9/12.8 MB 11.9 MB/s eta 0:00:01\n",
      "     ------------------ --------------------- 6.0/12.8 MB 13.1 MB/s eta 0:00:01\n",
      "     --------------------- ------------------ 7.0/12.8 MB 13.9 MB/s eta 0:00:01\n",
      "     ----------------------- ---------------- 7.6/12.8 MB 13.9 MB/s eta 0:00:01\n",
      "     ------------------------- -------------- 8.3/12.8 MB 14.0 MB/s eta 0:00:01\n",
      "     ----------------------------- ---------- 9.4/12.8 MB 14.7 MB/s eta 0:00:01\n",
      "     -------------------------------- ------ 10.8/12.8 MB 20.5 MB/s eta 0:00:01\n",
      "     ------------------------------------- - 12.2/12.8 MB 21.8 MB/s eta 0:00:01\n",
      "     --------------------------------------  12.8/12.8 MB 22.6 MB/s eta 0:00:01\n",
      "     --------------------------------------- 12.8/12.8 MB 20.4 MB/s eta 0:00:00\n",
      "Requirement already satisfied: spacy<3.8.0,>=3.7.2 in c:\\anaconda\\lib\\site-packages (from en-core-web-sm==3.7.1) (3.7.2)\n",
      "Requirement already satisfied: spacy-legacy<3.1.0,>=3.0.11 in c:\\anaconda\\lib\\site-packages (from spacy<3.8.0,>=3.7.2->en-core-web-sm==3.7.1) (3.0.12)\n",
      "Requirement already satisfied: spacy-loggers<2.0.0,>=1.0.0 in c:\\anaconda\\lib\\site-packages (from spacy<3.8.0,>=3.7.2->en-core-web-sm==3.7.1) (1.0.5)\n",
      "Requirement already satisfied: murmurhash<1.1.0,>=0.28.0 in c:\\anaconda\\lib\\site-packages (from spacy<3.8.0,>=3.7.2->en-core-web-sm==3.7.1) (1.0.10)\n",
      "Requirement already satisfied: cymem<2.1.0,>=2.0.2 in c:\\anaconda\\lib\\site-packages (from spacy<3.8.0,>=3.7.2->en-core-web-sm==3.7.1) (2.0.8)\n",
      "Requirement already satisfied: preshed<3.1.0,>=3.0.2 in c:\\anaconda\\lib\\site-packages (from spacy<3.8.0,>=3.7.2->en-core-web-sm==3.7.1) (3.0.9)\n",
      "Requirement already satisfied: thinc<8.3.0,>=8.1.8 in c:\\anaconda\\lib\\site-packages (from spacy<3.8.0,>=3.7.2->en-core-web-sm==3.7.1) (8.2.1)\n",
      "Requirement already satisfied: wasabi<1.2.0,>=0.9.1 in c:\\anaconda\\lib\\site-packages (from spacy<3.8.0,>=3.7.2->en-core-web-sm==3.7.1) (1.1.2)\n",
      "Requirement already satisfied: srsly<3.0.0,>=2.4.3 in c:\\anaconda\\lib\\site-packages (from spacy<3.8.0,>=3.7.2->en-core-web-sm==3.7.1) (2.4.8)\n",
      "Requirement already satisfied: catalogue<2.1.0,>=2.0.6 in c:\\anaconda\\lib\\site-packages (from spacy<3.8.0,>=3.7.2->en-core-web-sm==3.7.1) (2.0.10)\n",
      "Requirement already satisfied: weasel<0.4.0,>=0.1.0 in c:\\anaconda\\lib\\site-packages (from spacy<3.8.0,>=3.7.2->en-core-web-sm==3.7.1) (0.3.4)\n",
      "Requirement already satisfied: typer<0.10.0,>=0.3.0 in c:\\anaconda\\lib\\site-packages (from spacy<3.8.0,>=3.7.2->en-core-web-sm==3.7.1) (0.9.0)\n",
      "Requirement already satisfied: smart-open<7.0.0,>=5.2.1 in c:\\anaconda\\lib\\site-packages (from spacy<3.8.0,>=3.7.2->en-core-web-sm==3.7.1) (5.2.1)\n",
      "Requirement already satisfied: tqdm<5.0.0,>=4.38.0 in c:\\anaconda\\lib\\site-packages (from spacy<3.8.0,>=3.7.2->en-core-web-sm==3.7.1) (4.65.0)\n",
      "Requirement already satisfied: requests<3.0.0,>=2.13.0 in c:\\anaconda\\lib\\site-packages (from spacy<3.8.0,>=3.7.2->en-core-web-sm==3.7.1) (2.31.0)\n",
      "Requirement already satisfied: pydantic!=1.8,!=1.8.1,<3.0.0,>=1.7.4 in c:\\anaconda\\lib\\site-packages (from spacy<3.8.0,>=3.7.2->en-core-web-sm==3.7.1) (1.10.8)\n",
      "Requirement already satisfied: jinja2 in c:\\anaconda\\lib\\site-packages (from spacy<3.8.0,>=3.7.2->en-core-web-sm==3.7.1) (3.1.2)\n",
      "Requirement already satisfied: setuptools in c:\\anaconda\\lib\\site-packages (from spacy<3.8.0,>=3.7.2->en-core-web-sm==3.7.1) (68.0.0)\n",
      "Requirement already satisfied: packaging>=20.0 in c:\\anaconda\\lib\\site-packages (from spacy<3.8.0,>=3.7.2->en-core-web-sm==3.7.1) (23.1)\n",
      "Requirement already satisfied: langcodes<4.0.0,>=3.2.0 in c:\\anaconda\\lib\\site-packages (from spacy<3.8.0,>=3.7.2->en-core-web-sm==3.7.1) (3.3.0)\n",
      "Requirement already satisfied: numpy>=1.19.0 in c:\\anaconda\\lib\\site-packages (from spacy<3.8.0,>=3.7.2->en-core-web-sm==3.7.1) (1.24.3)\n",
      "Requirement already satisfied: typing-extensions>=4.2.0 in c:\\anaconda\\lib\\site-packages (from pydantic!=1.8,!=1.8.1,<3.0.0,>=1.7.4->spacy<3.8.0,>=3.7.2->en-core-web-sm==3.7.1) (4.7.1)\n",
      "Requirement already satisfied: charset-normalizer<4,>=2 in c:\\anaconda\\lib\\site-packages (from requests<3.0.0,>=2.13.0->spacy<3.8.0,>=3.7.2->en-core-web-sm==3.7.1) (2.0.4)\n",
      "Requirement already satisfied: idna<4,>=2.5 in c:\\anaconda\\lib\\site-packages (from requests<3.0.0,>=2.13.0->spacy<3.8.0,>=3.7.2->en-core-web-sm==3.7.1) (3.4)\n",
      "Requirement already satisfied: urllib3<3,>=1.21.1 in c:\\anaconda\\lib\\site-packages (from requests<3.0.0,>=2.13.0->spacy<3.8.0,>=3.7.2->en-core-web-sm==3.7.1) (1.26.16)\n",
      "Requirement already satisfied: certifi>=2017.4.17 in c:\\anaconda\\lib\\site-packages (from requests<3.0.0,>=2.13.0->spacy<3.8.0,>=3.7.2->en-core-web-sm==3.7.1) (2023.11.17)\n",
      "Requirement already satisfied: blis<0.8.0,>=0.7.8 in c:\\anaconda\\lib\\site-packages (from thinc<8.3.0,>=8.1.8->spacy<3.8.0,>=3.7.2->en-core-web-sm==3.7.1) (0.7.11)\n",
      "Requirement already satisfied: confection<1.0.0,>=0.0.1 in c:\\anaconda\\lib\\site-packages (from thinc<8.3.0,>=8.1.8->spacy<3.8.0,>=3.7.2->en-core-web-sm==3.7.1) (0.1.4)\n",
      "Requirement already satisfied: colorama in c:\\anaconda\\lib\\site-packages (from tqdm<5.0.0,>=4.38.0->spacy<3.8.0,>=3.7.2->en-core-web-sm==3.7.1) (0.4.6)\n",
      "Requirement already satisfied: click<9.0.0,>=7.1.1 in c:\\anaconda\\lib\\site-packages (from typer<0.10.0,>=0.3.0->spacy<3.8.0,>=3.7.2->en-core-web-sm==3.7.1) (8.0.4)\n",
      "Requirement already satisfied: cloudpathlib<0.17.0,>=0.7.0 in c:\\anaconda\\lib\\site-packages (from weasel<0.4.0,>=0.1.0->spacy<3.8.0,>=3.7.2->en-core-web-sm==3.7.1) (0.16.0)\n",
      "Requirement already satisfied: MarkupSafe>=2.0 in c:\\anaconda\\lib\\site-packages (from jinja2->spacy<3.8.0,>=3.7.2->en-core-web-sm==3.7.1) (2.1.1)\n",
      "\u001b[38;5;2m[+] Download and installation successful\u001b[0m\n",
      "You can now load the package via spacy.load('en_core_web_sm')\n"
     ]
    }
   ],
   "source": [
    "!python -m spacy download en_core_web_sm"
   ]
  },
  {
   "cell_type": "code",
   "execution_count": 17,
   "id": "f087cde1",
   "metadata": {},
   "outputs": [],
   "source": [
    "text = \"A boy who was dropped from one college because of poor grades entered Columbia and became a straight “A” student. A girl who had flunked Latin four times, after three talks with the school counselor, finished with a grade of 84. A boy who was told by a testing bureau that he had no aptitude for English won an honorable mention the next year for a literary prize. The trouble with these students was not that they were dumb or lacking in basic aptitudes.\""
   ]
  },
  {
   "cell_type": "code",
   "execution_count": 18,
   "id": "056058f4",
   "metadata": {},
   "outputs": [],
   "source": [
    "# Perform standard imports\n",
    "import spacy\n",
    "nlp = spacy.load('en_core_web_sm')"
   ]
  },
  {
   "cell_type": "code",
   "execution_count": 19,
   "id": "60d50efd",
   "metadata": {},
   "outputs": [],
   "source": [
    "# Import the displaCy library\n",
    "from spacy import displacy"
   ]
  },
  {
   "cell_type": "code",
   "execution_count": 20,
   "id": "e0be2b61",
   "metadata": {},
   "outputs": [
    {
     "data": {
      "text/html": [
       "<span class=\"tex2jax_ignore\"><div class=\"entities\" style=\"line-height: 2.5; direction: ltr\">A boy who was dropped from \n",
       "<mark class=\"entity\" style=\"background: #e4e7d2; padding: 0.45em 0.6em; margin: 0 0.25em; line-height: 1; border-radius: 0.35em;\">\n",
       "    one\n",
       "    <span style=\"font-size: 0.8em; font-weight: bold; line-height: 1; border-radius: 0.35em; vertical-align: middle; margin-left: 0.5rem\">CARDINAL</span>\n",
       "</mark>\n",
       " college because of poor grades entered \n",
       "<mark class=\"entity\" style=\"background: #7aecec; padding: 0.45em 0.6em; margin: 0 0.25em; line-height: 1; border-radius: 0.35em;\">\n",
       "    Columbia\n",
       "    <span style=\"font-size: 0.8em; font-weight: bold; line-height: 1; border-radius: 0.35em; vertical-align: middle; margin-left: 0.5rem\">ORG</span>\n",
       "</mark>\n",
       " and became a straight “A” student. A girl who had flunked \n",
       "<mark class=\"entity\" style=\"background: #c887fb; padding: 0.45em 0.6em; margin: 0 0.25em; line-height: 1; border-radius: 0.35em;\">\n",
       "    Latin\n",
       "    <span style=\"font-size: 0.8em; font-weight: bold; line-height: 1; border-radius: 0.35em; vertical-align: middle; margin-left: 0.5rem\">NORP</span>\n",
       "</mark>\n",
       " four times, after \n",
       "<mark class=\"entity\" style=\"background: #e4e7d2; padding: 0.45em 0.6em; margin: 0 0.25em; line-height: 1; border-radius: 0.35em;\">\n",
       "    three\n",
       "    <span style=\"font-size: 0.8em; font-weight: bold; line-height: 1; border-radius: 0.35em; vertical-align: middle; margin-left: 0.5rem\">CARDINAL</span>\n",
       "</mark>\n",
       " talks with the school counselor, finished with a grade of \n",
       "<mark class=\"entity\" style=\"background: #e4e7d2; padding: 0.45em 0.6em; margin: 0 0.25em; line-height: 1; border-radius: 0.35em;\">\n",
       "    84\n",
       "    <span style=\"font-size: 0.8em; font-weight: bold; line-height: 1; border-radius: 0.35em; vertical-align: middle; margin-left: 0.5rem\">CARDINAL</span>\n",
       "</mark>\n",
       ". A boy who was told by a testing bureau that he had no aptitude for \n",
       "<mark class=\"entity\" style=\"background: #ff8197; padding: 0.45em 0.6em; margin: 0 0.25em; line-height: 1; border-radius: 0.35em;\">\n",
       "    English\n",
       "    <span style=\"font-size: 0.8em; font-weight: bold; line-height: 1; border-radius: 0.35em; vertical-align: middle; margin-left: 0.5rem\">LANGUAGE</span>\n",
       "</mark>\n",
       " won an honorable mention \n",
       "<mark class=\"entity\" style=\"background: #bfe1d9; padding: 0.45em 0.6em; margin: 0 0.25em; line-height: 1; border-radius: 0.35em;\">\n",
       "    the next year\n",
       "    <span style=\"font-size: 0.8em; font-weight: bold; line-height: 1; border-radius: 0.35em; vertical-align: middle; margin-left: 0.5rem\">DATE</span>\n",
       "</mark>\n",
       " for a literary prize. The trouble with these students was not that they were dumb or lacking in basic aptitudes.</div></span>"
      ],
      "text/plain": [
       "<IPython.core.display.HTML object>"
      ]
     },
     "metadata": {},
     "output_type": "display_data"
    }
   ],
   "source": [
    "doc = nlp(text)\n",
    "displacy.render(doc, style='ent', jupyter=True)"
   ]
  },
  {
   "cell_type": "markdown",
   "id": "e93d2368",
   "metadata": {},
   "source": [
    "### Customizing Colors and Effects\n",
    "\n",
    "- You can also pass background color and gradient options:"
   ]
  },
  {
   "cell_type": "code",
   "execution_count": 21,
   "id": "afaafae2",
   "metadata": {},
   "outputs": [
    {
     "data": {
      "text/html": [
       "<span class=\"tex2jax_ignore\"><div class=\"entities\" style=\"line-height: 2.5; direction: ltr\">A boy who was dropped from \n",
       "<mark class=\"entity\" style=\"background: radial-gradient(#e66465, #9198e5); padding: 0.45em 0.6em; margin: 0 0.25em; line-height: 1; border-radius: 0.35em;\">\n",
       "    one\n",
       "    <span style=\"font-size: 0.8em; font-weight: bold; line-height: 1; border-radius: 0.35em; vertical-align: middle; margin-left: 0.5rem\">CARDINAL</span>\n",
       "</mark>\n",
       " college because of poor grades entered \n",
       "<mark class=\"entity\" style=\"background: linear-gradient(135deg, green 20%, cyan); padding: 0.45em 0.6em; margin: 0 0.25em; line-height: 1; border-radius: 0.35em;\">\n",
       "    Columbia\n",
       "    <span style=\"font-size: 0.8em; font-weight: bold; line-height: 1; border-radius: 0.35em; vertical-align: middle; margin-left: 0.5rem\">ORG</span>\n",
       "</mark>\n",
       " and became a straight “A” student. A girl who had flunked Latin four times, after \n",
       "<mark class=\"entity\" style=\"background: radial-gradient(#e66465, #9198e5); padding: 0.45em 0.6em; margin: 0 0.25em; line-height: 1; border-radius: 0.35em;\">\n",
       "    three\n",
       "    <span style=\"font-size: 0.8em; font-weight: bold; line-height: 1; border-radius: 0.35em; vertical-align: middle; margin-left: 0.5rem\">CARDINAL</span>\n",
       "</mark>\n",
       " talks with the school counselor, finished with a grade of \n",
       "<mark class=\"entity\" style=\"background: radial-gradient(#e66465, #9198e5); padding: 0.45em 0.6em; margin: 0 0.25em; line-height: 1; border-radius: 0.35em;\">\n",
       "    84\n",
       "    <span style=\"font-size: 0.8em; font-weight: bold; line-height: 1; border-radius: 0.35em; vertical-align: middle; margin-left: 0.5rem\">CARDINAL</span>\n",
       "</mark>\n",
       ". A boy who was told by a testing bureau that he had no aptitude for English won an honorable mention the next year for a literary prize. The trouble with these students was not that they were dumb or lacking in basic aptitudes.</div></span>"
      ],
      "text/plain": [
       "<IPython.core.display.HTML object>"
      ]
     },
     "metadata": {},
     "output_type": "display_data"
    }
   ],
   "source": [
    "colors = {'ORG': 'linear-gradient(135deg, green 20%, cyan)', 'CARDINAL': 'radial-gradient(#e66465, #9198e5)'}\n",
    "\n",
    "options = {'ents': ['ORG', 'CARDINAL'], 'colors':colors}\n",
    "\n",
    "displacy.render(doc, style='ent', jupyter=True, options=options)"
   ]
  },
  {
   "cell_type": "markdown",
   "id": "a2c56b0a",
   "metadata": {},
   "source": [
    "### POS"
   ]
  },
  {
   "cell_type": "code",
   "execution_count": 22,
   "id": "5c392855",
   "metadata": {},
   "outputs": [
    {
     "name": "stderr",
     "output_type": "stream",
     "text": [
      "[nltk_data] Downloading package punkt to\n",
      "[nltk_data]     C:\\Users\\RL\\AppData\\Roaming\\nltk_data...\n",
      "[nltk_data]   Package punkt is already up-to-date!\n",
      "[nltk_data] Downloading package averaged_perceptron_tagger to\n",
      "[nltk_data]     C:\\Users\\RL\\AppData\\Roaming\\nltk_data...\n",
      "[nltk_data]   Package averaged_perceptron_tagger is already up-to-\n",
      "[nltk_data]       date!\n"
     ]
    },
    {
     "data": {
      "text/plain": [
       "True"
      ]
     },
     "execution_count": 22,
     "metadata": {},
     "output_type": "execute_result"
    }
   ],
   "source": [
    "import nltk\n",
    "nltk.download('punkt')\n",
    "nltk.download('averaged_perceptron_tagger')"
   ]
  },
  {
   "cell_type": "code",
   "execution_count": 47,
   "id": "6b01dc87",
   "metadata": {},
   "outputs": [],
   "source": [
    "words = word_tokenize(generated_text)"
   ]
  },
  {
   "cell_type": "code",
   "execution_count": 48,
   "id": "49b469b0",
   "metadata": {},
   "outputs": [
    {
     "data": {
      "text/plain": [
       "[('Our', 'PRP$'),\n",
       " ('self-image', 'NN'),\n",
       " ('prescribes', 'VBZ'),\n",
       " ('the', 'DT'),\n",
       " ('limits', 'NNS'),\n",
       " ('for', 'IN'),\n",
       " ('the', 'DT'),\n",
       " ('accomplishment', 'NN'),\n",
       " ('of', 'IN'),\n",
       " ('any', 'DT'),\n",
       " ('experience', 'NN'),\n",
       " ('and', 'CC'),\n",
       " ('a', 'DT'),\n",
       " ('vicious', 'JJ'),\n",
       " ('or', 'CC'),\n",
       " ('a', 'DT'),\n",
       " ('beneficent', 'NN')]"
      ]
     },
     "execution_count": 48,
     "metadata": {},
     "output_type": "execute_result"
    }
   ],
   "source": [
    "nltk.pos_tag(words)"
   ]
  },
  {
   "cell_type": "code",
   "execution_count": 49,
   "id": "eaee3174",
   "metadata": {},
   "outputs": [
    {
     "name": "stdout",
     "output_type": "stream",
     "text": [
      "17\n"
     ]
    }
   ],
   "source": [
    "#How many words are there? :\n",
    "print (len(words))"
   ]
  },
  {
   "cell_type": "code",
   "execution_count": 50,
   "id": "7fb9bead",
   "metadata": {},
   "outputs": [],
   "source": [
    "#Import required libraries :\n",
    "from nltk.probability import FreqDist"
   ]
  },
  {
   "cell_type": "code",
   "execution_count": 51,
   "id": "fc52110b",
   "metadata": {},
   "outputs": [],
   "source": [
    "#Find the frequency :\n",
    "fdist = FreqDist(words)"
   ]
  },
  {
   "cell_type": "code",
   "execution_count": 52,
   "id": "cf3fe3f1",
   "metadata": {},
   "outputs": [
    {
     "data": {
      "text/plain": [
       "[('the', 2),\n",
       " ('a', 2),\n",
       " ('Our', 1),\n",
       " ('self-image', 1),\n",
       " ('prescribes', 1),\n",
       " ('limits', 1),\n",
       " ('for', 1),\n",
       " ('accomplishment', 1),\n",
       " ('of', 1),\n",
       " ('any', 1)]"
      ]
     },
     "execution_count": 52,
     "metadata": {},
     "output_type": "execute_result"
    }
   ],
   "source": [
    "#Print 10 most common words :\n",
    "fdist.most_common(10)"
   ]
  },
  {
   "cell_type": "code",
   "execution_count": 53,
   "id": "3d1f4526",
   "metadata": {},
   "outputs": [],
   "source": [
    "#Plot the graph for fdist :\n",
    "import matplotlib.pyplot as plt\n",
    "%matplotlib inline"
   ]
  },
  {
   "cell_type": "code",
   "execution_count": 54,
   "id": "d27b0860",
   "metadata": {},
   "outputs": [
    {
     "data": {
      "image/png": "[encoded data removed]",
      "text/plain": [
       "<Figure size 640x480 with 1 Axes>"
      ]
     },
     "metadata": {},
     "output_type": "display_data"
    },
    {
     "data": {
      "text/plain": [
       "<Axes: xlabel='Samples', ylabel='Counts'>"
      ]
     },
     "execution_count": 54,
     "metadata": {},
     "output_type": "execute_result"
    }
   ],
   "source": [
    "fdist.plot(10)"
   ]
  },
  {
   "cell_type": "markdown",
   "id": "4529c7f9",
   "metadata": {},
   "source": [
    "Conclusion\n",
    "\n",
    "In general, I believe the program performed quite well. From reading the book, I could tell the program was making a lot of inferences from the text but because it was taking from the general language flow and tone the author used, I'll consider it successful. Another improvement from the midterm was that the format, when compared to the original document, wasn't heavily altered and remained true to the original PDF file's."
   ]
  },
  {
   "cell_type": "markdown",
   "id": "7294561f",
   "metadata": {},
   "source": [
    "Maltz, M. (2015). Psycho-Cybernetics: Updated and Expanded. Penguin."
   ]
  }
 ],
 "metadata": {
  "kernelspec": {
   "display_name": "Python 3 (ipykernel)",
   "language": "python",
   "name": "python3"
  },
  "language_info": {
   "codemirror_mode": {
    "name": "ipython",
    "version": 3
   },
   "file_extension": ".py",
   "mimetype": "text/x-python",
   "name": "python",
   "nbconvert_exporter": "python",
   "pygments_lexer": "ipython3",
   "version": "3.11.5"
  }
 },
 "nbformat": 4,
 "nbformat_minor": 5
}
